{
 "cells": [
  {
   "cell_type": "markdown",
   "metadata": {},
   "source": [
    "# Quick Start NEO \n",
    "\n",
    "## Introduction \n",
    "\n",
    "`That's how things begin, very small` - Egg Chen \n",
    "\n",
    "The following is a experimental .NET interactive script that will attempt to run through Neo quickstart documentation. Specifically, Quick Start 1: Getting Started with the NEO Blockchain Toolkit. \n",
    "\n",
    "## Authors \n",
    "\n",
    "- Harry Pierson \n",
    "- Heath Yates "
   ]
  },
  {
   "cell_type": "markdown",
   "metadata": {},
   "source": [
    "## Getting Started \n",
    "\n",
    "First, make sure you have the dependencies for .NET Core and .NET SDK installed. At the time of this writing, check for a value greater than 5. You can do this by going to the Linux terminal and typing `dotnet --version` and `dotnet --list-sdks`. Second, make sure you have libsnappy and libc6. You can use the apt package manager to insure these are installed by `sudo apt install libsnappy-dev lib6-dev -y`.\n",
    "\n",
    "Next, you will need the neo blockchain toolkit installed. The following is a concise step by step process to accomplish this: \n",
    "\n",
    "\n",
    "- Go to Extensions Market in Visual Studio code. Search `neo blockchain toolkit` and verify `ngd-seattle.neo-blockchain-toolkit` and install the tool. \n"
   ]
  },
  {
   "cell_type": "code",
   "execution_count": null,
   "metadata": {
    "dotnet_interactive": {
     "language": "csharp"
    }
   },
   "outputs": [],
   "source": [
    "using Neo;\n",
    "using Neo.SmartContract;\n",
    "using Neo.SmartContract.Framework;\n",
    "using Neo.SmartContract.Framework.Native;\n",
    "using Neo.SmartContract.Framework.Services;\n",
    "using System;\n",
    "\n",
    "namespace Helloworld\n",
    "{\n",
    "    [ManifestExtra(\"Author\", \"Neo\")]\n",
    "    [ManifestExtra(\"Email\", \"dev@neo.org\")]\n",
    "    [ManifestExtra(\"Description\", \"This is a contract example\")]\n",
    "    public class Contract1 : SmartContract\n",
    "    {\n",
    "        //TODO: Replace it with your own address.\n",
    "        [InitialValue(\"NiNmXL8FjEUEs1nfX9uHFBNaenxDHJtmuB\", ContractParameterType.Hash160)]\n",
    "        static readonly UInt160 Owner = default;\n",
    "\n",
    "        private static bool IsOwner() => Runtime.CheckWitness(Owner);\n",
    "\n",
    "        // When this contract address is included in the transaction signature,\n",
    "        // this method will be triggered as a VerificationTrigger to verify that the signature is correct.\n",
    "        // For example, this method needs to be called when withdrawing token from the contract.\n",
    "        public static bool Verify() => IsOwner();\n",
    "\n",
    "        // TODO: Replace it with your methods.\n",
    "        public static string MyMethod()\n",
    "        {\n",
    "            return Storage.Get(Storage.CurrentContext, \"Hello\");\n",
    "        }\n",
    "\n",
    "        public static void _deploy(object data, bool update)\n",
    "        {\n",
    "            if (update) return;\n",
    "\n",
    "            // It will be executed during deploy\n",
    "            Storage.Put(Storage.CurrentContext, \"Hello\", \"World\");\n",
    "        }\n",
    "\n",
    "        public static void Update(ByteString nefFile, string manifest)\n",
    "        {\n",
    "            if (!IsOwner()) throw new Exception(\"No authorization.\");\n",
    "            ContractManagement.Update(nefFile, manifest, null);\n",
    "        }\n",
    "\n",
    "        public static void Destroy()\n",
    "        {\n",
    "            if (!IsOwner()) throw new Exception(\"No authorization.\");\n",
    "            ContractManagement.Destroy();\n",
    "        }\n",
    "    }\n",
    "}"
   ]
  },
  {
   "cell_type": "markdown",
   "metadata": {},
   "source": [
    "## Acknowledgments \n",
    "\n",
    "The original content creators at NEO. Harry Pierson for discussing Neo tutorials with me and giving me the inspiration to consider using .NET interactive with Visual Studio code as an additional tool to explore the NEO quick start materials. \n",
    "\n",
    "\n",
    "## References \n",
    "\n",
    "- [Quick Start 1: Getting Started with the NEO Blockchain Toolkit](https://ngdenterprise.com/neo-tutorials/quickstart1.html)\n",
    "- [Writing Smart Contracts: Basics](https://docs.neo.org/docs/en-us/develop/write/basics.html)"
   ]
  }
 ],
 "metadata": {
  "kernelspec": {
   "display_name": ".NET (C#)",
   "language": "C#",
   "name": ".net-csharp"
  },
  "language_info": {
   "file_extension": ".cs",
   "mimetype": "text/x-csharp",
   "name": "C#",
   "pygments_lexer": "csharp",
   "version": "9.0"
  },
  "orig_nbformat": 2
 },
 "nbformat": 4,
 "nbformat_minor": 2
}