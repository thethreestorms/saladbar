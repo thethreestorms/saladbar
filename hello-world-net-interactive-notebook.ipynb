{
 "cells": [
  {
   "cell_type": "markdown",
   "metadata": {},
   "source": [
    "# Salad Bar \n",
    "\n",
    "Take what you want and leave the rest, just like your salad bar. \n",
    "\n",
    "## Instructions to get .NET Interactive working \n",
    "\n",
    "The following instructions assume a Windows 10 environment with WSL2 terminal: \n",
    "\n",
    "- First install .NET interactive package for Visual Studio Code [here](https://marketplace.visualstudio.com/items?itemName=ms-dotnettools.dotnet-interactive-vscode)\n",
    "- Second, install .NET Core and .NET Core SDK [here](https://docs.microsoft.com/en-us/dotnet/core/install/linux-ubuntu#2004-)\n",
    "\n",
    "Next, confirm this works by opening up visual studio code and trying out a simple C# command as indicated below. Please note in order to open the command try something like `ctrl + shift + p`. You should see an option such as `.NET Interactive: Create new blank notebook`"
   ]
  },
  {
   "cell_type": "code",
   "execution_count": null,
   "metadata": {
    "dotnet_interactive": {
     "language": "csharp"
    }
   },
   "outputs": [
    {
     "data": {
      "text/plain": "Derp\n"
     },
     "output_type": "unknown"
    }
   ],
   "source": [
    "Console.WriteLine(\"Derp\")"
   ]
  }
 ],
 "metadata": {
  "kernelspec": {
   "display_name": ".NET (C#)",
   "language": "C#",
   "name": ".net-csharp"
  },
  "language_info": {
   "file_extension": ".cs",
   "mimetype": "text/x-csharp",
   "name": "C#",
   "pygments_lexer": "csharp",
   "version": "9.0"
  },
  "orig_nbformat": 2
 },
 "nbformat": 4,
 "nbformat_minor": 2
}